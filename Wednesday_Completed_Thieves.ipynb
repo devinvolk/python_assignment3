{
 "cells": [
  {
   "cell_type": "markdown",
   "metadata": {},
   "source": [
    "# Data Collections 2 (Dictionaries, Sets) and Importing Modules"
   ]
  },
  {
   "cell_type": "markdown",
   "metadata": {},
   "source": [
    "## Tasks Today:\n",
    "\n",
    "1) Dictionary <br>\n",
    " &nbsp;&nbsp;&nbsp;&nbsp; a) Declaring (key, value) <br>\n",
    " &nbsp;&nbsp;&nbsp;&nbsp; b) Accessing Values <br>\n",
    " &nbsp;&nbsp;&nbsp;&nbsp; ------ Exercise #1 - Print the eye color of each person in a double nested dict <br>\n",
    " &nbsp;&nbsp;&nbsp;&nbsp; c) Adding New Pairs <br>\n",
    " &nbsp;&nbsp;&nbsp;&nbsp; d) Modifying Values <br>\n",
    " &nbsp;&nbsp;&nbsp;&nbsp; e) Removing Key, Value Pairs <br>\n",
    " &nbsp;&nbsp;&nbsp;&nbsp; f) Looping a Dictionary <br>\n",
    " &nbsp;&nbsp;&nbsp;&nbsp; g) Looping Only Keys <br>\n",
    " &nbsp;&nbsp;&nbsp;&nbsp; h) Looping Only Values <br>\n",
    " &nbsp;&nbsp;&nbsp;&nbsp; ------ Exercise #2 - Create a Function that Prints All Key Value Pairs within a print .format()  <br>\n",
    " &nbsp;&nbsp;&nbsp;&nbsp; i) sorted() <br>\n",
    " &nbsp;&nbsp;&nbsp;&nbsp; j) Lists with Dictionaries <br>\n",
    " &nbsp;&nbsp;&nbsp;&nbsp; k) Dictionaries with Lists <br>\n",
    " &nbsp;&nbsp;&nbsp;&nbsp; l) Dictionaries with Dictionaries <br>\n",
    " &nbsp;&nbsp;&nbsp;&nbsp; ------ Exercise #3 - Write a Function that asks someone's name and address, and then stores that into a dictionary, which prints all names and addresses after they're done putting information in...  <br>\n",
    "2) Dictionaries vs. Lists (over time)<br>\n",
    "3) Set <br>\n",
    " &nbsp;&nbsp;&nbsp;&nbsp; a) Declaring <br>\n",
    " &nbsp;&nbsp;&nbsp;&nbsp; b) .add() <br>\n",
    " &nbsp;&nbsp;&nbsp;&nbsp; c) .remove() <br>\n",
    " &nbsp;&nbsp;&nbsp;&nbsp; d) .union() <br>\n",
    " &nbsp;&nbsp;&nbsp;&nbsp; e) .intersection() <br>\n",
    " &nbsp;&nbsp;&nbsp;&nbsp; f) .difference() <br>\n",
    " &nbsp;&nbsp;&nbsp;&nbsp; g) Frozen Set <br>\n",
    "4) Modules <br>\n",
    " &nbsp;&nbsp;&nbsp;&nbsp; a) Importing Entire Modules <br>\n",
    " &nbsp;&nbsp;&nbsp;&nbsp; b) Importing Methods Only <br>\n",
    " &nbsp;&nbsp;&nbsp;&nbsp; c) Using the 'as' Keyword <br>\n",
    " &nbsp;&nbsp;&nbsp;&nbsp; d) Creating a Module <br>\n",
    "5) Exercises <br>\n",
    " &nbsp;&nbsp;&nbsp;&nbsp; a) Build a Shopping Cart <br>\n",
    " &nbsp;&nbsp;&nbsp;&nbsp; b) Create Your Own Module <br>"
   ]
  },
  {
   "cell_type": "markdown",
   "metadata": {},
   "source": [
    "## Dictionary <br>\n",
    "<p>A collection of data with 'key:value' pairs. Dictionaries are ordered as of Python 3.6</p>"
   ]
  },
  {
   "cell_type": "markdown",
   "metadata": {},
   "source": [
    "##### Declaring (key, value)"
   ]
  },
  {
   "cell_type": "code",
   "execution_count": null,
   "metadata": {},
   "outputs": [
    {
     "ename": "",
     "evalue": "",
     "output_type": "error",
     "traceback": [
      "\u001b[1;31mCanceled future for execute_request message before replies were done"
     ]
    }
   ],
   "source": [
    "new_dict = {}\n",
    "\n",
    "new_dict_1 = dict()\n",
    "\n",
    "nfl_teams = {\n",
    "    'Seattle': 'Seahawks',\n",
    "    'Kansas City': 'Chiefs'\n",
    "}\n",
    "\n",
    "print(nfl_teams)"
   ]
  },
  {
   "cell_type": "markdown",
   "metadata": {},
   "source": [
    "##### Accessing Values"
   ]
  },
  {
   "cell_type": "code",
   "execution_count": null,
   "metadata": {},
   "outputs": [
    {
     "data": {
      "text/plain": [
       "'Seahawks'"
      ]
     },
     "execution_count": 6,
     "metadata": {},
     "output_type": "execute_result"
    }
   ],
   "source": [
    "nfl_teams['Kansas City']\n",
    "nfl_teams['Seattle']"
   ]
  },
  {
   "cell_type": "markdown",
   "metadata": {},
   "source": [
    "## In-Class Exercise #1 - Print a formatted statement from the dictionary below <br>\n",
    "<p>The output should be '2018 Chevrolet Silverado'</p>"
   ]
  },
  {
   "cell_type": "code",
   "execution_count": 56,
   "metadata": {},
   "outputs": [
    {
     "name": "stdout",
     "output_type": "stream",
     "text": [
      "2018 Silverado Chevrolet\n",
      "\"2018 Silverado Chevrolet\"\n"
     ]
    }
   ],
   "source": [
    "# use the dict below\n",
    "truck = {\n",
    "    'year': 2018,\n",
    "    'make': 'Chevrolet',\n",
    "    'model': 'Silverado'\n",
    "}\n",
    "\n",
    "print(truck['year'], truck['model'], truck['make'])\n",
    "print(f'\"{truck[\"year\"]} {truck[\"model\"]} {truck[\"make\"]}\"')"
   ]
  },
  {
   "cell_type": "markdown",
   "metadata": {},
   "source": [
    "##### Adding New Pairs"
   ]
  },
  {
   "cell_type": "code",
   "execution_count": null,
   "metadata": {},
   "outputs": [
    {
     "name": "stdout",
     "output_type": "stream",
     "text": [
      "{'Seattle': 'Seahawks', 'Kansas City': 'Chiefs', 'Philly': 'Eagles'}\n"
     ]
    }
   ],
   "source": [
    "nfl_teams = {\n",
    "    'Seattle': 'Seahawks',\n",
    "    'Kansas City': 'Chiefs'\n",
    "}\n",
    "\n",
    "nfl_teams['Philly'] = 'Eagles'\n",
    "\n",
    "print(nfl_teams)"
   ]
  },
  {
   "cell_type": "markdown",
   "metadata": {},
   "source": [
    "##### Modifying Values"
   ]
  },
  {
   "cell_type": "code",
   "execution_count": null,
   "metadata": {},
   "outputs": [
    {
     "name": "stdout",
     "output_type": "stream",
     "text": [
      "{'Seattle': 'Thieves', 'Kansas City': 'Chiefs', 'Philly': 'Eagles'}\n"
     ]
    }
   ],
   "source": [
    "nfl_teams['Seattle'] = 'Thieves'\n",
    "\n",
    "print(nfl_teams)"
   ]
  },
  {
   "cell_type": "markdown",
   "metadata": {},
   "source": [
    "##### Removing Key, Value Pairs"
   ]
  },
  {
   "cell_type": "code",
   "execution_count": null,
   "metadata": {},
   "outputs": [
    {
     "name": "stdout",
     "output_type": "stream",
     "text": [
      "{'Seattle': 'Thieves', 'Philly': 'Eagles'}\n"
     ]
    }
   ],
   "source": [
    "del nfl_teams['Kansas City']\n",
    "\n",
    "print(nfl_teams)"
   ]
  },
  {
   "cell_type": "markdown",
   "metadata": {},
   "source": [
    "##### Looping a Dictionary"
   ]
  },
  {
   "cell_type": "code",
   "execution_count": null,
   "metadata": {},
   "outputs": [
    {
     "name": "stdout",
     "output_type": "stream",
     "text": [
      "Seattle Thieves\n",
      "Philly Eagles\n"
     ]
    }
   ],
   "source": [
    "# .items()\n",
    "for k,v in nfl_teams.items():\n",
    "    print(k,v)\n",
    "\n"
   ]
  },
  {
   "cell_type": "markdown",
   "metadata": {},
   "source": [
    "##### Looping Only Keys"
   ]
  },
  {
   "cell_type": "code",
   "execution_count": null,
   "metadata": {},
   "outputs": [
    {
     "name": "stdout",
     "output_type": "stream",
     "text": [
      "Seattle\n",
      "Philly\n"
     ]
    }
   ],
   "source": [
    "# .keys()\n",
    "for key in nfl_teams.keys():\n",
    "    print(key)\n"
   ]
  },
  {
   "cell_type": "markdown",
   "metadata": {},
   "source": [
    "##### Looping Only Values"
   ]
  },
  {
   "cell_type": "code",
   "execution_count": null,
   "metadata": {},
   "outputs": [],
   "source": [
    "# .values()\n",
    "for value in nfl_teams.values():\n",
    "    print(value)\n"
   ]
  },
  {
   "cell_type": "markdown",
   "metadata": {},
   "source": [
    "## In-Class Exercise #2 - Create a Function that Prints All Key Value Pairs within a print .format() <br>\n",
    "<p><b>Output should be:</b><br>\n",
    "Max has blue eyes<br>\n",
    "Lilly has brown eyes<br>\n",
    "Barney has blue eyes<br>\n",
    "etc.\n",
    "</p>"
   ]
  },
  {
   "cell_type": "code",
   "execution_count": null,
   "metadata": {},
   "outputs": [
    {
     "name": "stdout",
     "output_type": "stream",
     "text": [
      "Max has blue eyes\n",
      "Lilly has brown eyes\n",
      "Barney has blue eyes\n",
      "Larney has brown eyes\n",
      "Ted has purple eyes\n"
     ]
    }
   ],
   "source": [
    "# use the dict below\n",
    "\n",
    "people = {\n",
    "    'Max': 'blue',\n",
    "    'Lilly': 'brown',\n",
    "    'Barney': 'blue',\n",
    "    'Larney': 'brown',\n",
    "    'Ted': 'purple'\n",
    "}\n",
    "\n",
    "for key, value in people.items():\n",
    "    string1 = '{} has {} eyes'\n",
    "    print(string1.format(key, value))"
   ]
  },
  {
   "cell_type": "markdown",
   "metadata": {},
   "source": [
    "##### sorted()"
   ]
  },
  {
   "cell_type": "code",
   "execution_count": null,
   "metadata": {},
   "outputs": [
    {
     "name": "stdout",
     "output_type": "stream",
     "text": [
      "['blue', 'blue', 'brown', 'brown', 'purple']\n"
     ]
    }
   ],
   "source": [
    "# sorts variables in order\n",
    "# sorted(dict.values()) or dict.keys() or dict.items()\n",
    "\n",
    "sorted_values = sorted(people.values())\n",
    "print(sorted_values)\n"
   ]
  },
  {
   "cell_type": "markdown",
   "metadata": {},
   "source": [
    "##### List with Dictionaries"
   ]
  },
  {
   "cell_type": "code",
   "execution_count": null,
   "metadata": {},
   "outputs": [
    {
     "name": "stdout",
     "output_type": "stream",
     "text": [
      "taps\n",
      "greg\n",
      "a\n"
     ]
    }
   ],
   "source": [
    "students = ['alex', 'ashley', 'taps', {'random guy': 'greg', 'random girl': 'sarah'}]\n",
    "\n",
    "print(students[2])\n",
    "\n",
    "print(students[3]['random guy'])\n",
    "\n",
    "print(students[3]['random girl'][1])"
   ]
  },
  {
   "cell_type": "markdown",
   "metadata": {},
   "source": [
    "##### Dictionaries with Lists"
   ]
  },
  {
   "cell_type": "code",
   "execution_count": null,
   "metadata": {},
   "outputs": [
    {
     "name": "stdout",
     "output_type": "stream",
     "text": [
      "Lebron James\n",
      "Russell Westbrook\n",
      "what will be printed???\n"
     ]
    }
   ],
   "source": [
    "# be careful when using numbers as keys in dictionaries, don't confuse them with indexes\n",
    "nba_teams = {\n",
    "    'Los Angeles': ['Lebron James', 'Russell Westbrook'],\n",
    "    'Brooklyn': ['Kevin Durant', 'Ben Simmons'],\n",
    "    2: ['what will be printed???']\n",
    "}\n",
    "\n",
    "for name in nba_teams['Los Angeles']:\n",
    "    print(name)\n",
    "\n",
    "print(nba_teams[2][0])"
   ]
  },
  {
   "cell_type": "markdown",
   "metadata": {},
   "source": [
    "##### Dictionaries with Dictionaries"
   ]
  },
  {
   "cell_type": "code",
   "execution_count": null,
   "metadata": {},
   "outputs": [
    {
     "name": "stdout",
     "output_type": "stream",
     "text": [
      "8.99\n"
     ]
    }
   ],
   "source": [
    "# to get values, must traverse through keys\n",
    "\n",
    "christophers_burgers = {\n",
    "    'menu': {\n",
    "        'cheese burger': 7.99,\n",
    "        'vegan burger': 8.99,\n",
    "        'chris burger': 15.99\n",
    "    }\n",
    "}\n",
    "\n",
    "print(christophers_burgers['menu']['vegan burger'])"
   ]
  },
  {
   "cell_type": "markdown",
   "metadata": {},
   "source": [
    "## Dictionaries vs. Lists (over time) Example of RUNTIME\n",
    "### When inputting values in a Dictionary vs List"
   ]
  },
  {
   "cell_type": "code",
   "execution_count": null,
   "metadata": {},
   "outputs": [],
   "source": [
    "import time\n",
    "\n",
    "\n",
    "# generate fake dictionary\n",
    "d = {}\n",
    "\n",
    "for i in range(50000000):\n",
    "    d[i] = 'value'\n",
    "    \n",
    "\n",
    "# generate fake list\n",
    "big_list = [x for x in range(50000000)]"
   ]
  },
  {
   "cell_type": "code",
   "execution_count": null,
   "metadata": {},
   "outputs": [
    {
     "name": "stdout",
     "output_type": "stream",
     "text": [
      "Elapsed time for dictionary: 2.097658157348633\n",
      "Elapsed time for list: 3.813053607940674\n"
     ]
    }
   ],
   "source": [
    "# tracking time for list\n",
    "start_time = time.time()\n",
    "\n",
    "for num in big_list:\n",
    "    if num == 49999999:\n",
    "        break\n",
    "\n",
    "end_time = time.time() - start_time\n",
    "\n",
    "print('Elapsed time for dictionary: {}'.format(end_time))\n",
    "\n",
    "\n",
    "# tracking time for dictionary\n",
    "start_time = time.time()\n",
    "\n",
    "for num in d.keys():\n",
    "    if d[num] == 49999999:\n",
    "        break\n",
    "\n",
    "end_time = time.time() - start_time\n",
    "\n",
    "print('Elapsed time for list: {}'.format(end_time))"
   ]
  },
  {
   "cell_type": "markdown",
   "metadata": {},
   "source": [
    "## Exercise #3 - Write a Function that asks someone's name and address, and then stores that into a dictionary, and continues to do so until they choose to 'quit'. Once they quit, the program should print all names and addresses. <br>\n",
    "<p>\n",
    "<b>Proper steps:</b><br>\n",
    "step 1: write a function that takes in information and stores it in a dictionary<br>\n",
    "step 2: define an empty dictionary to work with<br>\n",
    "step 3: create our loop, which asks the user for information until they quit<br>\n",
    "step 4: ask for the information, and store it into variables<br>\n",
    "step 5: check if the user types quit<br>\n",
    "step 5a: print out all information<br>\n",
    "step 5b: break out of the loop<br>\n",
    "step 6: if they didn't quit, add the information to the dictionary<br>\n",
    "step 7: invoke the function by calling it\n",
    "</p>"
   ]
  },
  {
   "cell_type": "code",
   "execution_count": 21,
   "metadata": {},
   "outputs": [
    {
     "name": "stdout",
     "output_type": "stream",
     "text": [
      "{'billy': '34sdf', 'sarah': '234 asdf wer'}\n"
     ]
    }
   ],
   "source": [
    "def contact():\n",
    "    dict={}\n",
    "    while True:\n",
    "        name = input(\"What is your name? \")\n",
    "        if name == 'quit':\n",
    "            break\n",
    "        address = input(\"What is your address? \")\n",
    "        if address == 'quit':\n",
    "            break\n",
    "        dict[name] = address\n",
    "    print(dict)\n",
    "\n",
    "contact()"
   ]
  },
  {
   "cell_type": "markdown",
   "metadata": {},
   "source": [
    "## Set <br>\n",
    "<p>A Set is an unordered collection data type that is iterable (loop), mutable, and has no duplicate elements.<br>Major advantage is that it is highly optimized in checking if something is in the set, as opposed to checking if something is in a list.</p>"
   ]
  },
  {
   "cell_type": "markdown",
   "metadata": {},
   "source": [
    "##### Declaring"
   ]
  },
  {
   "cell_type": "code",
   "execution_count": null,
   "metadata": {},
   "outputs": [
    {
     "name": "stdout",
     "output_type": "stream",
     "text": [
      "{0, 1, 2, 3, 4, 99, 32, 54632544, 40, 55, 545623, 343}\n",
      "<class 'set'>\n"
     ]
    }
   ],
   "source": [
    "# set() or {}\n",
    "\n",
    "set_1 = set()\n",
    "\n",
    "nums = {1,2,3,4}\n",
    "\n",
    "print(nums)\n",
    "\n",
    "print(type(nums))"
   ]
  },
  {
   "cell_type": "markdown",
   "metadata": {},
   "source": [
    "##### .add()"
   ]
  },
  {
   "cell_type": "code",
   "execution_count": null,
   "metadata": {},
   "outputs": [
    {
     "name": "stdout",
     "output_type": "stream",
     "text": [
      "{1, 2, 3, 4, 5, 60, -34}\n"
     ]
    }
   ],
   "source": [
    "# set.add()\n",
    "nums.add(-34)\n",
    "\n",
    "print(nums)"
   ]
  },
  {
   "cell_type": "markdown",
   "metadata": {},
   "source": [
    "##### .remove()"
   ]
  },
  {
   "cell_type": "code",
   "execution_count": null,
   "metadata": {},
   "outputs": [
    {
     "name": "stdout",
     "output_type": "stream",
     "text": [
      "{1, 2, 4, 5, 60, -34}\n"
     ]
    }
   ],
   "source": [
    "# removes by value\n",
    "# set.remove()\n",
    "# nums.remove(56)\n",
    "\n",
    "nums.remove(3)\n",
    "\n",
    "print(nums)\n"
   ]
  },
  {
   "cell_type": "markdown",
   "metadata": {},
   "source": [
    "##### .union() "
   ]
  },
  {
   "cell_type": "code",
   "execution_count": null,
   "metadata": {},
   "outputs": [
    {
     "name": "stdout",
     "output_type": "stream",
     "text": [
      "{1, 2, 3, 4, 5, 6}\n",
      "{1, 2, 3, 4, 5, 6}\n"
     ]
    }
   ],
   "source": [
    "# Returns a union of two sets, can also use '|' or set.union(set)\n",
    "# joins all numbers, gets rid of duplicates\n",
    "\n",
    "set_1 = {1,2,3,4}\n",
    "set_2 = {3,4,5,6}\n",
    "\n",
    "set_3 = set_1.union(set_2)\n",
    "set_4 = set_1 | set_2\n",
    "\n",
    "print(set_3)\n",
    "print(set_4)"
   ]
  },
  {
   "cell_type": "markdown",
   "metadata": {},
   "source": [
    "##### .intersection()"
   ]
  },
  {
   "cell_type": "code",
   "execution_count": null,
   "metadata": {},
   "outputs": [
    {
     "name": "stdout",
     "output_type": "stream",
     "text": [
      "{3, 4}\n",
      "{3, 4}\n"
     ]
    }
   ],
   "source": [
    "# Returns an intersection of two sets, can also use '&'\n",
    "# only takes similar elements from both sets\n",
    "set_1 = {1,2,3,4}\n",
    "set_2 = {3,4,5,6}\n",
    "\n",
    "set_3 = set_1.intersection(set_2)\n",
    "set_4 = set_1 & set_2\n",
    "\n",
    "print(set_3)\n",
    "print(set_4)"
   ]
  },
  {
   "cell_type": "markdown",
   "metadata": {},
   "source": [
    "##### .difference()"
   ]
  },
  {
   "cell_type": "code",
   "execution_count": null,
   "metadata": {},
   "outputs": [
    {
     "name": "stdout",
     "output_type": "stream",
     "text": [
      "{5, 6}\n"
     ]
    }
   ],
   "source": [
    "# Returns a set containing all the elements of invoking set that are not in the second set, can also use '-'\n",
    "# only takes values from the first set that are not in the second set\n",
    "# order matters\n",
    "set_1 = {1,2,3,4}\n",
    "set_2 = {3,4,5,6}\n",
    "\n",
    "set_3 = set_2.difference(set_1)\n",
    "\n",
    "print(set_3)\n",
    "\n"
   ]
  },
  {
   "cell_type": "markdown",
   "metadata": {},
   "source": [
    "##### .clear()"
   ]
  },
  {
   "cell_type": "code",
   "execution_count": null,
   "metadata": {},
   "outputs": [
    {
     "name": "stdout",
     "output_type": "stream",
     "text": [
      "{1, 2, 3, 4}\n",
      "set()\n"
     ]
    }
   ],
   "source": [
    "# Empties the whole set\n",
    "# set.clear()\n",
    "set_1 = {1,2,3,4}\n",
    "\n",
    "print(set_1)\n",
    "\n",
    "set_1.clear()\n",
    "\n",
    "print(set_1)"
   ]
  },
  {
   "cell_type": "markdown",
   "metadata": {},
   "source": [
    "##### Frozenset <br>\n",
    "<p>Frozen sets are immutable objects that only support methods and operators that produce a result without affecting the frozen set or sets to which they are applied.</p><br><b>Unique & Immutable</b>"
   ]
  },
  {
   "cell_type": "code",
   "execution_count": null,
   "metadata": {},
   "outputs": [
    {
     "name": "stdout",
     "output_type": "stream",
     "text": [
      "frozenset({1, 2, 3, 4})\n",
      "frozenset({3, 4})\n"
     ]
    }
   ],
   "source": [
    "# frozenset([])\n",
    "set_1 = {1,2,3,4}\n",
    "set_2 = {3,4,5,6}\n",
    "\n",
    "set_3 = frozenset(set_1)\n",
    "\n",
    "print(set_3)\n",
    "\n",
    "set_4 = set_3.intersection(set_2)\n",
    "\n",
    "print(set_4)"
   ]
  },
  {
   "cell_type": "markdown",
   "metadata": {},
   "source": [
    "## Modules"
   ]
  },
  {
   "cell_type": "markdown",
   "metadata": {},
   "source": [
    "##### Importing Entire Modules"
   ]
  },
  {
   "cell_type": "code",
   "execution_count": null,
   "metadata": {},
   "outputs": [
    {
     "name": "stdout",
     "output_type": "stream",
     "text": [
      "3.141592653589793\n",
      "4\n",
      "46\n",
      "235\n"
     ]
    }
   ],
   "source": [
    "# import or from 'xxx' import *\n",
    "import math\n",
    "\n",
    "print(math.pi)\n",
    "print(math.floor(4.868))\n",
    "print(math.ceil(45.23525))\n",
    "print(round(234.55))"
   ]
  },
  {
   "cell_type": "markdown",
   "metadata": {},
   "source": [
    "##### Importing Methods Only"
   ]
  },
  {
   "cell_type": "code",
   "execution_count": null,
   "metadata": {},
   "outputs": [
    {
     "name": "stdout",
     "output_type": "stream",
     "text": [
      "45\n"
     ]
    }
   ],
   "source": [
    "# from 'xxx' import 'xxx'\n",
    "# from math import floor\n",
    "from math import floor, ceil, pi\n",
    "\n",
    "print(floor(45.3245))\n",
    "\n"
   ]
  },
  {
   "cell_type": "markdown",
   "metadata": {},
   "source": [
    "##### Using the 'as' Keyword"
   ]
  },
  {
   "cell_type": "code",
   "execution_count": null,
   "metadata": {},
   "outputs": [
    {
     "name": "stdout",
     "output_type": "stream",
     "text": [
      "56\n"
     ]
    }
   ],
   "source": [
    "# from 'xxx' import 'xxx' as 'xxx' or import 'xxx' as 'xxx'\n",
    "# from math import floor as f\n",
    "from math import ceil as round_up\n",
    "\n",
    "print(round_up(55.235))\n",
    "\n"
   ]
  },
  {
   "cell_type": "markdown",
   "metadata": {},
   "source": [
    "##### Creating a Module"
   ]
  },
  {
   "cell_type": "code",
   "execution_count": null,
   "metadata": {},
   "outputs": [
    {
     "data": {
      "text/plain": [
       "7"
      ]
     },
     "execution_count": 23,
     "metadata": {},
     "output_type": "execute_result"
    }
   ],
   "source": [
    "import createdModule\n",
    "\n",
    "createdModule.addition(2,5)"
   ]
  },
  {
   "cell_type": "markdown",
   "metadata": {},
   "source": [
    "# Exercises"
   ]
  },
  {
   "cell_type": "markdown",
   "metadata": {},
   "source": [
    "### 1) Build a Shopping Cart <br>\n",
    "<p><b>You can use either lists or dictionaries. The program should have the following capabilities:</b><br><br>\n",
    "1) Takes in input <br>\n",
    "2) Stores user input into a dictionary or list <br>\n",
    "3) The User can add or delete items <br>\n",
    "4) The User can see current shopping list <br>\n",
    "5) The program Loops until user 'quits' <br>\n",
    "6) Upon quiting the program, print out all items in the user's list <br>\n",
    "</p>"
   ]
  },
  {
   "cell_type": "code",
   "execution_count": 62,
   "metadata": {},
   "outputs": [
    {
     "name": "stdout",
     "output_type": "stream",
     "text": [
      "Bananas added to your list\n",
      "Grapes added to your list\n",
      "Ice Cream added to your list\n",
      "The item you are trying to remove is not in on list. Please try again\n",
      "Grapes removed from your list\n",
      "['bananas', 'ice cream']\n",
      "bananas\n",
      "ice cream\n"
     ]
    }
   ],
   "source": [
    "def shopping_cart():\n",
    "    #creates a shopping list that a user can modify and view\n",
    "    #when the programmed is stopped, the list is printed\n",
    "    shopping_list = []\n",
    "    while True:\n",
    "        answer = input('Do you want to: Show/Add/Delete or Quit ').lower()\n",
    "        if answer == 'show':\n",
    "            #checks if the list is empty\n",
    "            if shopping_list == []:\n",
    "                print(\"Your shopping list is empty\")\n",
    "            else:\n",
    "                print(shopping_list)\n",
    "        elif answer == 'add':\n",
    "            #code for adding items to the list\n",
    "            while True:\n",
    "                item = (input(\"What item would you like to add? \").lower())\n",
    "                shopping_list.append(item)\n",
    "                print(item.title() + \" added to your list\")\n",
    "                answer2 = input(\"Would you like to add another item? (Y/N) \").lower()\n",
    "                if answer2 == 'y':\n",
    "                    continue\n",
    "                else:\n",
    "                    break\n",
    "        elif answer == 'delete':\n",
    "            #code for removing an item from the list\n",
    "            while True:\n",
    "                item = (input(\"What item would you like to remove? \").lower())\n",
    "                #checks to see if the item is in the list\n",
    "                try:\n",
    "                    shopping_list.remove(item)\n",
    "                except ValueError:\n",
    "                    #statement if the item isn't in the list\n",
    "                    print(\"The item you are trying to remove is not in on list. Please try again\")\n",
    "                else:\n",
    "                    #code runs if item was in the list\n",
    "                    print(item.title() + \" removed from your list\")\n",
    "                    answer3 = input(\"Would you like to remove another item? (Y/N) \").lower()\n",
    "                    if answer3 == 'y':\n",
    "                        continue\n",
    "                    if answer3 == 'n':\n",
    "                        break\n",
    "        elif answer == 'quit':\n",
    "            #prints out the list item by item\n",
    "            if shopping_list == []:\n",
    "                print(\"Your shopping list is empty\")\n",
    "            else:\n",
    "                for index in range(len(shopping_list)):\n",
    "                    print(shopping_list[index].title())\n",
    "                break\n",
    "\n",
    "def shopping_cart1():\n",
    "    #creates a dict and creates a key shopping list and stores values that a user can modify and view\n",
    "    #when the programmed is stopped, the list is printed\n",
    "    dict = {'shopping list': []}\n",
    "    while True:\n",
    "        answer = input('Do you want to: Show/Add/Delete or Quit ').lower()\n",
    "        if answer == 'show':\n",
    "            #checks if the list is empty\n",
    "            if dict['shopping list'] == []:\n",
    "                print(\"Your shopping list is empty\")\n",
    "            else:\n",
    "                print(dict['shopping list'])\n",
    "        elif answer == 'add':\n",
    "            #code for adding items to the dict\n",
    "            while True:\n",
    "                item = (input(\"What item would you like to add? \").lower())\n",
    "                dict['shopping list'].append(item)\n",
    "                print(item.title() + \" added to your list\")\n",
    "                answer2 = input(\"Would you like to add another item? (Y/N) \").lower()\n",
    "                if answer2 == 'y':\n",
    "                    continue\n",
    "                else:\n",
    "                    break\n",
    "        elif answer == 'delete':\n",
    "            #code for removing an item from the dict\n",
    "            while True:\n",
    "                item = (input(\"What item would you like to remove? \").lower())\n",
    "                #checks to see if the item is in the dict\n",
    "                try:\n",
    "                    dict['shopping list'].remove(item) \n",
    "                except ValueError:\n",
    "                    #statement if the item isn't in the dict\n",
    "                    print(\"The item you are trying to remove is not in on list. Please try again\")\n",
    "                else:\n",
    "                    #code runs if item was in the dict\n",
    "                    print(item.title() + \" removed from your list\")\n",
    "                    answer3 = input(\"Would you like to remove another item? (Y/N) \").lower()\n",
    "                    if answer3 == 'y':\n",
    "                        continue\n",
    "                    if answer3 == 'n':\n",
    "                        break\n",
    "        elif answer == 'quit':\n",
    "            #prints out the value in the dict\n",
    "            for item in dict['shopping list']:\n",
    "                print(item)\n",
    "            break\n",
    "\n",
    "shopping_cart1()"
   ]
  },
  {
   "cell_type": "markdown",
   "metadata": {},
   "source": [
    "### 2) Create a Module in VS Code and Import It into jupyter notebook <br>\n",
    "<p><b>Module should have the following capabilities:</b><br><br>\n",
    "1) Has a function to calculate the square footage of a house <br>\n",
    "    <b>Reminder of Formula: Length X Width == Area<br>\n",
    "        <hr>\n",
    "2) Has a function to calculate the circumference of a circle <br><br>\n",
    "<b>Program in Jupyter Notebook should take in user input and use imported functions to calculate a circle's circumference or a houses square footage</b>\n",
    "</p>"
   ]
  },
  {
   "cell_type": "code",
   "execution_count": 48,
   "metadata": {},
   "outputs": [
    {
     "data": {
      "text/plain": [
       "31.400000000000002"
      ]
     },
     "execution_count": 48,
     "metadata": {},
     "output_type": "execute_result"
    }
   ],
   "source": [
    "import module\n",
    "\n",
    "def calculator():\n",
    "    response = input(\"What would you like to calculate? house square footage/circumference of a circle? <enter footage or circle\").lower()\n",
    "    if response == \"footage\":\n",
    "        length = int(input(\"What is the length of the house? \"))\n",
    "        width = int(input(\"What is the width of the house? \"))\n",
    "        return module.area_house(length, width)\n",
    "    elif response == 'circle':\n",
    "        response = input(\"Do you know the radius or diameter? <enter radius or diameter> \").lower() \n",
    "        if response == \"radius\":\n",
    "            radius = int(input(\"What is the radius of the circle? \"))\n",
    "            return module.circumference_circle_radius(radius)\n",
    "        elif response == \"diameter\":\n",
    "            diameter = int(input(\"What is the diameter of the circle? \"))\n",
    "            return module.circumference_circle_diameter(diameter)\n",
    "\n",
    "calculator()"
   ]
  }
 ],
 "metadata": {
  "kernelspec": {
   "display_name": "Python 3",
   "language": "python",
   "name": "python3"
  },
  "language_info": {
   "codemirror_mode": {
    "name": "ipython",
    "version": 3
   },
   "file_extension": ".py",
   "mimetype": "text/x-python",
   "name": "python",
   "nbconvert_exporter": "python",
   "pygments_lexer": "ipython3",
   "version": "3.10.9"
  },
  "vscode": {
   "interpreter": {
    "hash": "aee8b7b246df8f9039afb4144a1f6fd8d2ca17a180786b69acc140d282b71a49"
   }
  }
 },
 "nbformat": 4,
 "nbformat_minor": 2
}
